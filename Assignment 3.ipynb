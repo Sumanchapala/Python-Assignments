{
 "cells": [
  {
   "cell_type": "code",
   "execution_count": 1,
   "metadata": {},
   "outputs": [
    {
     "name": "stdout",
     "output_type": "stream",
     "text": [
      "Result using custom reduce function: 10\n"
     ]
    }
   ],
   "source": [
    "'''1.1 Write a Python Program to implement your own myreduce() function which works exactly\n",
    "like Python's built-in function reduce()'''\n",
    "\n",
    "def custom_reduce(any_func,seq):\n",
    "    \n",
    "    result = seq[0]\n",
    "    for element in seq[1:]:\n",
    "        result = any_func(result,element)\n",
    "    \n",
    "    return result\n",
    "\n",
    "def add(x,y): return x+y\n",
    "\n",
    "print(\"Result using custom reduce function:\",custom_reduce(add,[1,2,3,4]))"
   ]
  },
  {
   "cell_type": "code",
   "execution_count": 2,
   "metadata": {},
   "outputs": [
    {
     "name": "stdout",
     "output_type": "stream",
     "text": [
      "Set of Whole numbers using custom filter function: {0, 1, 3, 7}\n"
     ]
    }
   ],
   "source": [
    "'''1.2 Write a Python program to implement your own myfilter() function which works exactly\n",
    "like Python's built-in function filter()'''\n",
    "\n",
    "def custom_filter(any_func,seq):\n",
    "    \n",
    "    result = []\n",
    "    for element in seq:\n",
    "        if any_func(element):\n",
    "            result.append(element)\n",
    "    \n",
    "    return set(result)\n",
    "\n",
    "def Whole_numbers(x):\n",
    "    if x>=0: return True\n",
    "    else: return False\n",
    "\n",
    "print(\"Set of Whole numbers using custom filter function:\",custom_filter(Whole_numbers,[1,-2,3,3,0,-4,-5,-6,7, 0]))"
   ]
  },
  {
   "cell_type": "code",
   "execution_count": 3,
   "metadata": {},
   "outputs": [
    {
     "name": "stdout",
     "output_type": "stream",
     "text": [
      "['A', 'C', 'A', 'D', 'G', 'I', 'L', 'D']\n",
      "\n",
      "['x', 'xx', 'xxx', 'xxxx', 'y', 'yy', 'yyy', 'yyyy', 'z', 'zz', 'zzz', 'zzzz']\n",
      "\n",
      "['x', 'y', 'z', 'xx', 'yy', 'zz', 'xxx', 'yyy', 'zzz', 'xxxx', 'yyyy', 'zzzz']\n",
      "\n",
      "[[2], [3], [4], [3], [4], [5], [4], [5], [6]]\n",
      "\n",
      "[[2, 3, 4, 5], [3, 4, 5, 6], [4, 5, 6, 7], [5, 6, 7, 8]]\n",
      "\n",
      "[(1, 1), (2, 1), (3, 1), (1, 2), (2, 2), (3, 2), (1, 3), (2, 3), (3, 3)]\n"
     ]
    }
   ],
   "source": [
    "#2 Implement List comprehensions to produce the following lists\n",
    "#Write List comprehensions to produce the following Lists\n",
    "\n",
    "#['A', 'C', 'A', 'D', 'G', 'I', ’L’, ‘ D’]\n",
    "word = \"ACADGILD\"\n",
    "output = [alphabet for alphabet in word]\n",
    "print(output)\n",
    "print()\n",
    "\n",
    "#['x', 'xx', 'xxx', 'xxxx', 'y', 'yy', 'yyy', 'yyyy', 'z', 'zz', 'zzz', 'zzzz']\n",
    "list1= ['x','y','z']\n",
    "output = [item*num for item in list1 for num in range(1,5)]\n",
    "print(output)\n",
    "print()\n",
    "\n",
    "#['x', 'y', 'z', 'xx', 'yy', 'zz', 'xxx', 'yyy', 'zzz', 'xxxx', 'yyyy', 'zzzz']\n",
    "list1 = ['x','y','z']\n",
    "output = [item*num for num in range(1,5) for item in list1]\n",
    "print(output)\n",
    "print()\n",
    "\n",
    "#[[2], [3], [4], [3], [4], [5], [4], [5], [6]]\n",
    "list1 = [2,3,4]\n",
    "output = [[item+num] for item in list1 for num in range(0,3)]\n",
    "print(output)\n",
    "print()\n",
    "\n",
    "#[[2, 3, 4, 5], [3, 4, 5, 6],[4, 5, 6, 7], [5, 6, 7, 8]]\n",
    "list1 = [2,3,4,5]\n",
    "output = [[item+num for item in list1] for num in range(0,4)]\n",
    "print(output)\n",
    "print()\n",
    "\n",
    "#[(1, 1), (2, 1), (3, 1), (1, 2), (2, 2), (3, 2), (1, 3), (2, 3), (3, 3)]\n",
    "list1=[1,2,3]\n",
    "output = [(b,a) for a in list1 for b in list1]\n",
    "print(output)"
   ]
  }
 ],
 "metadata": {
  "kernelspec": {
   "display_name": "Python 3",
   "language": "python",
   "name": "python3"
  },
  "language_info": {
   "codemirror_mode": {
    "name": "ipython",
    "version": 3
   },
   "file_extension": ".py",
   "mimetype": "text/x-python",
   "name": "python",
   "nbconvert_exporter": "python",
   "pygments_lexer": "ipython3",
   "version": "3.6.5"
  }
 },
 "nbformat": 4,
 "nbformat_minor": 2
}
