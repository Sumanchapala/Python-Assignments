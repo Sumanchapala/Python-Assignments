{
 "cells": [
  {
   "cell_type": "code",
   "execution_count": 35,
   "metadata": {},
   "outputs": [
    {
     "name": "stdout",
     "output_type": "stream",
     "text": [
      "Enter a value: 0\n",
      "Division by 0 is not possible\n",
      "Enter a value: yu\n",
      "Enter an Integer\n",
      "Enter a value: 6\n",
      "0.8333333333333334\n"
     ]
    }
   ],
   "source": [
    "''' 1. Write a function to compute 5/0and use try/except to catch the exceptions'''\n",
    "\n",
    "while True:\n",
    "    try:\n",
    "        x=int(input(\"Enter a value: \"))\n",
    "        print(5/x)\n",
    "        break\n",
    "    except ZeroDivisionError:\n",
    "        print(\"Division by 0 is not possible\")\n",
    "        \n",
    "    except ValueError:\n",
    "        print(\"Enter an Integer\")\n",
    "        \n",
    "\n",
    "    except Exception as e:\n",
    "        print(\"Something went wrong ...\", e)\n",
    "        "
   ]
  },
  {
   "cell_type": "code",
   "execution_count": 14,
   "metadata": {},
   "outputs": [
    {
     "name": "stdout",
     "output_type": "stream",
     "text": [
      "Americans play Baseball\n",
      "Americans play Cricket\n",
      "Americans watch Baseball\n",
      "Americans watch Cricket\n",
      "Indians play Baseball\n",
      "Indians play Cricket\n",
      "Indians watch Baseball\n",
      "Indians watch Cricket\n"
     ]
    }
   ],
   "source": [
    "''' 2. Implement a python program to generate all the sentences where subject is in [\"Americans\",\"Indians\"]\n",
    "and verb is in [\"play\",\"watch\"] and the object is in [\"Baseball\",\"Cricket\"]'''\n",
    "\n",
    "subject = [\"Americans\",\"Indians\"]\n",
    "verb = [\"play\",\"watch\"]\n",
    "object1 = [\"Baseball\",\"Cricket\"]\n",
    "\n",
    "for i in subject:\n",
    "    for j in verb:\n",
    "        for k in object1:\n",
    "            print(i+\" \"+j+\" \"+k)\n"
   ]
  }
 ],
 "metadata": {
  "kernelspec": {
   "display_name": "Python 3",
   "language": "python",
   "name": "python3"
  },
  "language_info": {
   "codemirror_mode": {
    "name": "ipython",
    "version": 3
   },
   "file_extension": ".py",
   "mimetype": "text/x-python",
   "name": "python",
   "nbconvert_exporter": "python",
   "pygments_lexer": "ipython3",
   "version": "3.6.5"
  }
 },
 "nbformat": 4,
 "nbformat_minor": 2
}
