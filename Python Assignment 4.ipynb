{
 "cells": [
  {
   "cell_type": "code",
   "execution_count": 10,
   "metadata": {},
   "outputs": [
    {
     "name": "stdout",
     "output_type": "stream",
     "text": [
      "a = 9\n",
      "b = 8\n",
      "c = 7\n",
      "area: 26\n"
     ]
    }
   ],
   "source": [
    "'''1.1 Write a Python Program(with class concepts) to find the area of the triangle using the below formula.\n",
    "area = (s*(s-a)*(s-b)*(s-c)) ** 0.5. Function to take the length of the sides of triangle from user should be defined in the parent\n",
    "class and function to calculate the area should be defined in subclass.'''\n",
    "\n",
    "class Geometry:\n",
    "    def __init__(self, a, b, c):\n",
    "        self.a = a\n",
    "        self.b = b\n",
    "        self.c = c\n",
    "\n",
    "class Triangle(Geometry):\n",
    "    def __init__(self, a, b, c):\n",
    "        super().__init__(a, b, c)\n",
    "\n",
    "    def area_triangle(self):\n",
    "        s = (self.a + self.b + self.c) / 2\n",
    "        return int(((s * (s - self.a) * (s - self.b) * (s - self.c))) ** 0.5)\n",
    "\n",
    "a, b, c = int(input(\"a = \")), int(input(\"b = \")), int(input(\"c = \"))\n",
    "t = Triangle(a, b, c)\n",
    "print(\"area: {}\".format(t.area_triangle()))"
   ]
  },
  {
   "cell_type": "code",
   "execution_count": 1,
   "metadata": {},
   "outputs": [
    {
     "name": "stdout",
     "output_type": "stream",
     "text": [
      "Enter the number of words in the input list\n",
      "6\n",
      "Enter the words in the input list\n",
      "Delta\n",
      "rome\n",
      "mexico\n",
      "Italy\n",
      "Brussels\n",
      "London\n",
      "Enter the required length of words in the output 7\n",
      "The required output is: ['Brussels']\n"
     ]
    }
   ],
   "source": [
    "'''1.2 Write a function filter_long_words() that takes a list of words and an integer n and returns\n",
    "the list of words that are longer than n.'''\n",
    "\n",
    "input_list=[]\n",
    "output_list = []\n",
    "\n",
    "def words(input_list,n):\n",
    "    \n",
    "    for element in input_list:\n",
    "        if len(element)>n:\n",
    "            output_list.append(element)\n",
    "    \n",
    "    return output_list\n",
    "\n",
    "print(\"Enter the number of words in the input list\")\n",
    "x = int(input())\n",
    "\n",
    "\n",
    "print(\"Enter the words in the input list\")\n",
    "for i in range (0,x):\n",
    "    input_list.append(str(input()))\n",
    "\n",
    "y=int(input(\"Enter the required length of words in the output \"))\n",
    "\n",
    "print(\"The required output is:\", words(input_list,y))"
   ]
  },
  {
   "cell_type": "code",
   "execution_count": 4,
   "metadata": {},
   "outputs": [
    {
     "name": "stdout",
     "output_type": "stream",
     "text": [
      "Enter the number of words in the input list\n",
      "4\n",
      "Enter the words in the input list\n",
      "Enter\n",
      "The\n",
      "Dragon\n",
      "Bruce Lee\n",
      "The length of words in the output list: [5, 3, 6, 9]\n"
     ]
    }
   ],
   "source": [
    "'''2.1 Write a Python program using function concept that maps list of words into a list of integers\n",
    "representing the lengths of the corresponding words.\n",
    "Hint: If a list [ ab,cde,erty] is passed on to the python function output should come as [2,3,4]\n",
    "Here 2,3 and 4 are the lengths of the words in the list.'''\n",
    "\n",
    "input_list = []\n",
    "output_list = []\n",
    "\n",
    "def words(input_list):\n",
    "    for element in input_list:\n",
    "        output_list.append(len(element))\n",
    "    return output_list\n",
    "\n",
    "print(\"Enter the number of words in the input list\")\n",
    "x = int(input())\n",
    "\n",
    "print(\"Enter the words in the input list\")\n",
    "for i in range (0,x):\n",
    "    input_list.append(str(input()))\n",
    "    \n",
    "print(\"The length of words in the output list:\",words(input_list))"
   ]
  },
  {
   "cell_type": "code",
   "execution_count": 10,
   "metadata": {},
   "outputs": [
    {
     "name": "stdout",
     "output_type": "stream",
     "text": [
      "Enter a character: s\n"
     ]
    },
    {
     "data": {
      "text/plain": [
       "False"
      ]
     },
     "execution_count": 10,
     "metadata": {},
     "output_type": "execute_result"
    }
   ],
   "source": [
    "'''2.2 Write a Python function which takes a character (i.e. a string of length 1) and returns True if\n",
    "it is a vowel, False otherwise.'''\n",
    "\n",
    "def Vowels(x):\n",
    "    \n",
    "    if x in ['a','e','i','o','u','A','E','I','O','U']:\n",
    "        return True\n",
    "    else: return False\n",
    "    \n",
    "y = str(input(\"Enter a character: \"))\n",
    "\n",
    "Vowels(y)"
   ]
  }
 ],
 "metadata": {
  "kernelspec": {
   "display_name": "Python 3",
   "language": "python",
   "name": "python3"
  },
  "language_info": {
   "codemirror_mode": {
    "name": "ipython",
    "version": 3
   },
   "file_extension": ".py",
   "mimetype": "text/x-python",
   "name": "python",
   "nbconvert_exporter": "python",
   "pygments_lexer": "ipython3",
   "version": "3.6.5"
  }
 },
 "nbformat": 4,
 "nbformat_minor": 2
}
